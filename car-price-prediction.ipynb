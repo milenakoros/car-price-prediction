{
 "cells": [
  {
   "cell_type": "markdown",
   "id": "8a4ae901-1966-4f98-9b52-e09135be34a1",
   "metadata": {},
   "source": [
    "# Model predykcji cen aut"
   ]
  },
  {
   "cell_type": "markdown",
   "id": "727628e0-7317-4c54-97c4-d224a6786495",
   "metadata": {},
   "source": [
    "## Importy"
   ]
  },
  {
   "cell_type": "code",
   "execution_count": null,
   "id": "e7cb7761-59da-4955-912e-8490b6c17829",
   "metadata": {},
   "outputs": [],
   "source": [
    "import numpy as np\n",
    "import pandas as pd\n",
    "import seaborn as sns\n",
    "import matplotlib.pyplot as plt"
   ]
  },
  {
   "cell_type": "markdown",
   "id": "28d10014-8ebe-49fa-84fd-6f2b836ee13f",
   "metadata": {},
   "source": [
    "## Wczytanie danych"
   ]
  },
  {
   "cell_type": "code",
   "execution_count": null,
   "id": "c955a35b-1620-48f0-ba43-8e140c04a2b7",
   "metadata": {},
   "outputs": [],
   "source": [
    "df = pd.read_csv('sales_ads_train.csv')"
   ]
  },
  {
   "cell_type": "markdown",
   "id": "2afa398d-4c55-441e-9018-a4523a6f3c1b",
   "metadata": {},
   "source": [
    "## Analiza danych i czyszczenie "
   ]
  },
  {
   "cell_type": "markdown",
   "id": "f7715df4-625f-4fad-8f5f-1522903dc6da",
   "metadata": {},
   "source": [
    "### Usunięcie niepotrzebnych kolumn"
   ]
  },
  {
   "cell_type": "code",
   "execution_count": null,
   "id": "1ffe5a5a-052b-4daa-b4f8-d3a74088bfa0",
   "metadata": {},
   "outputs": [],
   "source": [
    "df = df.drop('Pierwszy_wlasciciel', axis=1)\n",
    "df = df.drop('Data_pierwszej_rejestracji', axis=1)\n",
    "df = df.drop('Emisja_CO2', axis=1)"
   ]
  },
  {
   "cell_type": "markdown",
   "id": "2cb71f91-8bcb-4df5-8774-fe12c462c934",
   "metadata": {},
   "source": [
    "#### Uzasadnienie: Zbyt duże braki danych"
   ]
  },
  {
   "cell_type": "markdown",
   "id": "6ae2a01d-d624-421a-832c-422228085d40",
   "metadata": {},
   "source": [
    "### Uzupełnienie pustych rekordów"
   ]
  },
  {
   "cell_type": "code",
   "execution_count": null,
   "id": "1f96a2fe-fc81-48d2-8b44-bbd80229f915",
   "metadata": {},
   "outputs": [],
   "source": [
    "df['Kraj_pochodzenia'] = df['Kraj_pochodzenia'].fillna('brak_danych')\n",
    "df['Wersja_pojazdu'] = df['Wersja_pojazdu'].fillna('brak_danych')\n",
    "df['Generacja_pojazdu'] = df['Generacja_pojazdu'].fillna('brak_danych')\n",
    "df['Data_publikacji_oferty'] = df['Data_publikacji_oferty'].fillna('brak_danych')\n",
    "df['Lokalizacja_oferty'] = df['Lokalizacja_oferty'].fillna('brak_danych')"
   ]
  },
  {
   "cell_type": "markdown",
   "id": "5ff5e906-af1b-4b32-ae78-00c1cbb6c0c9",
   "metadata": {},
   "source": [
    "### Usunięcie wierszy z pustymi wartościami"
   ]
  },
  {
   "cell_type": "code",
   "execution_count": null,
   "id": "633700d9-3f57-4b6b-b57e-aecd5cdc9038",
   "metadata": {},
   "outputs": [],
   "source": [
    "df.dropna(subset=['Stan', 'Marka_pojazdu', 'Model_pojazdu','Wyposazenie'], inplace=True)"
   ]
  },
  {
   "cell_type": "markdown",
   "id": "daa3da9c-b8fd-4ce9-be75-35b4b94edc1a",
   "metadata": {},
   "source": [
    "### Zastąpienie wartoąci pustych, wartościami dominującymi w zbiorze"
   ]
  },
  {
   "cell_type": "code",
   "execution_count": null,
   "id": "07d2da07-d6a5-4ddf-b3ae-4ed300272738",
   "metadata": {},
   "outputs": [],
   "source": [
    "mode_cols = ['Waluta', 'Rodzaj_paliwa', 'Skrzynia_biegow', 'Naped', 'Kolor', 'Typ_nadwozia', 'Liczba_drzwi']\n",
    "for col in mode_cols:\n",
    "    df[col] = df[col].fillna(df[col].mode()[0])\n",
    "\n",
    "median_cols = ['Przebieg_km', 'Moc_KM', 'Pojemnosc_cm3', 'Rok_produkcji']\n",
    "for col in median_cols:\n",
    "    df[col] = df[col].fillna(df[col].median())\n"
   ]
  },
  {
   "cell_type": "markdown",
   "id": "750af3ef-aa63-4fbc-89fd-766f2c0acfe5",
   "metadata": {},
   "source": [
    "### Feature engineering - model lepiej zrozumie dane cechy"
   ]
  },
  {
   "cell_type": "code",
   "execution_count": null,
   "id": "80d6d9c6-2cfe-4b27-8af2-5b74ae326105",
   "metadata": {},
   "outputs": [],
   "source": [
    "df['Wiek_pojazdu'] = 2025 - df['Rok_produkcji']\n",
    "df['Moc_na_1000cm3'] = df['Moc_KM'] / (df['Pojemnosc_cm3'] / 1000)"
   ]
  },
  {
   "cell_type": "markdown",
   "id": "9c7b8169-2c1a-4876-b36f-2bdf134e4b83",
   "metadata": {},
   "source": [
    "### Encoding dla ujednolicenia wartości nieliczbowych "
   ]
  },
  {
   "cell_type": "code",
   "execution_count": null,
   "id": "192a73af-17d8-403f-943a-e1d485a5a9a4",
   "metadata": {},
   "outputs": [],
   "source": [
    "from sklearn.preprocessing import LabelEncoder\n",
    "\n",
    "label_encoders = {}\n",
    "\n",
    "for col in df.select_dtypes(include=['object']).columns:\n",
    "    le = LabelEncoder()\n",
    "    df[col] = le.fit_transform(df[col])\n",
    "    label_encoders[col] = le"
   ]
  },
  {
   "cell_type": "markdown",
   "id": "9496754c-e499-4e69-a24c-ab87e2783128",
   "metadata": {},
   "source": [
    "### Macierz korelacji cech"
   ]
  },
  {
   "cell_type": "code",
   "execution_count": null,
   "id": "ea6cc864-af1f-4052-9cce-61261c42f535",
   "metadata": {},
   "outputs": [],
   "source": [
    "corr = df.select_dtypes(include='number').corr()\n",
    "\n",
    "plt.figure(figsize=(12, 8))\n",
    "sns.heatmap(corr, annot=True, fmt=\".2f\", cmap=\"coolwarm\", linewidths=0.5)\n",
    "plt.title(\"Macierz korelacji\")\n",
    "plt.show()"
   ]
  },
  {
   "cell_type": "markdown",
   "id": "9f37a0bd",
   "metadata": {},
   "source": [
    "## Modelowanie z GradientBoostingRegressor\n",
    "\n",
    "W tej sekcji przeprowadzamy optymalizację hiperparametrów modelu `GradientBoostingRegressor` \n",
    "z wykorzystaniem siatki poszukiwań (`GridSearchCV`). \n",
    "\n",
    "Wybrałyśmy następujące hiperparametry do strojenia:\n",
    "\n",
    "- **n_estimators**: Liczba drzew w modelu\n",
    "- **learning_rate**: Współczynnik uczenia (tempo, w jakim model uczy się na błędach)\n",
    "- **max_depth**: Maksymalna głębokość drzew\n",
    "\n",
    "Jako metrykę do oceny przyjełyśmy `neg_mean_absolute_error` – (negatywną) średnią wartość błędu bezwzględnego.\n"
   ]
  },
  {
   "cell_type": "code",
   "execution_count": null,
   "id": "ae0de3bc-f665-49d8-872c-ca4240e43399",
   "metadata": {},
   "outputs": [],
   "source": [
    "from sklearn.ensemble import GradientBoostingRegressor\n",
    "from sklearn.model_selection import GridSearchCV\n",
    "\n",
    "X_train = df.drop(columns=['Cena'])\n",
    "y_train = df['Cena']\n",
    "\n",
    "model = GradientBoostingRegressor(random_state=42)\n",
    "\n",
    "params = {\n",
    "    'n_estimators': [100, 300],\n",
    "    'learning_rate': [0.05, 0.1],\n",
    "    'max_depth': [3, 5]\n",
    "}\n",
    "\n",
    "grid = GridSearchCV(model, params, cv=3, scoring='neg_mean_absolute_error', n_jobs=-1)\n",
    "grid.fit(X_train, y_train)"
   ]
  },
  {
   "cell_type": "markdown",
   "id": "3555765a",
   "metadata": {},
   "source": [
    "### Najlepszy model i parametry"
   ]
  },
  {
   "cell_type": "code",
   "execution_count": null,
   "id": "5555742a",
   "metadata": {},
   "outputs": [],
   "source": [
    "best_model = grid.best_estimator_\n",
    "\n",
    "print(\"Najlepsze parametry:\", grid.best_params_)"
   ]
  },
  {
   "cell_type": "markdown",
   "id": "d112fd07",
   "metadata": {},
   "source": [
    "# Dane testowe"
   ]
  },
  {
   "cell_type": "markdown",
   "id": "0823afb4",
   "metadata": {},
   "source": [
    "## Wczytanie danych testowych"
   ]
  },
  {
   "cell_type": "code",
   "execution_count": null,
   "id": "a52163b5",
   "metadata": {},
   "outputs": [],
   "source": [
    "test_df = pd.read_csv(\"sales_ads_test.csv\")"
   ]
  },
  {
   "cell_type": "markdown",
   "id": "67360833",
   "metadata": {},
   "source": [
    "### Usuwanie niepotrzebnych kolumn"
   ]
  },
  {
   "cell_type": "code",
   "execution_count": null,
   "id": "3a25a783",
   "metadata": {},
   "outputs": [],
   "source": [
    "test_df.drop(['Pierwszy_wlasciciel', 'Data_pierwszej_rejestracji', 'Emisja_CO2'], axis=1, inplace=True)"
   ]
  },
  {
   "cell_type": "markdown",
   "id": "c702331a",
   "metadata": {},
   "source": [
    "### Uzupełnianie braków"
   ]
  },
  {
   "cell_type": "code",
   "execution_count": null,
   "id": "a5e0c54c",
   "metadata": {},
   "outputs": [],
   "source": [
    "for col in ['Kraj_pochodzenia', 'Wersja_pojazdu', 'Generacja_pojazdu', 'Data_publikacji_oferty', 'Lokalizacja_oferty']:\n",
    "    test_df[col] = test_df[col].fillna('brak_danych')\n",
    "\n",
    "test_df.dropna(subset=['Stan', 'Marka_pojazdu', 'Model_pojazdu', 'Wyposazenie'], inplace=True)\n",
    "\n",
    "mode_cols = ['Waluta', 'Rodzaj_paliwa', 'Skrzynia_biegow', 'Naped', 'Kolor', 'Typ_nadwozia', 'Liczba_drzwi']\n",
    "for col in mode_cols:\n",
    "    test_df[col] = test_df[col].fillna(test_df[col].mode()[0])\n",
    "\n",
    "median_cols = ['Przebieg_km', 'Moc_KM', 'Pojemnosc_cm3', 'Rok_produkcji']\n",
    "for col in median_cols:\n",
    "    test_df[col] = test_df[col].fillna(test_df[col].median())\n"
   ]
  },
  {
   "cell_type": "markdown",
   "id": "cd17c9f0",
   "metadata": {},
   "source": [
    "### Feature engineering"
   ]
  },
  {
   "cell_type": "code",
   "execution_count": null,
   "id": "75679e05",
   "metadata": {},
   "outputs": [],
   "source": [
    "test_df['Wiek_pojazdu'] = 2025 - test_df['Rok_produkcji']\n",
    "test_df['Moc_na_1000cm3'] = test_df['Moc_KM'] / (test_df['Pojemnosc_cm3'] / 1000)"
   ]
  },
  {
   "cell_type": "markdown",
   "id": "107fbdc4",
   "metadata": {},
   "source": [
    "### Label encoding\n",
    "##### Użyłyśmy tych samych enkoderów co dla danych treningowych"
   ]
  },
  {
   "cell_type": "code",
   "execution_count": null,
   "id": "624d9c74",
   "metadata": {},
   "outputs": [],
   "source": [
    "for col, le in label_encoders.items():\n",
    "    if col in test_df.columns:\n",
    "        known = set(le.classes_)\n",
    "\n",
    "        test_df[col] = test_df[col].where(test_df[col].isin(known), 'brak_danych')\n",
    "\n",
    "        if 'brak_danych' not in le.classes_:\n",
    "            le.classes_ = np.append(le.classes_, 'brak_danych')\n",
    "\n",
    "        test_df[col] = le.transform(test_df[col])"
   ]
  },
  {
   "cell_type": "markdown",
   "id": "8282d3f1",
   "metadata": {},
   "source": [
    "# Predykcja cen dla danych testowych"
   ]
  },
  {
   "cell_type": "code",
   "execution_count": null,
   "id": "59a4449c",
   "metadata": {},
   "outputs": [],
   "source": [
    "X_test = test_df[X_train.columns]\n",
    "y_pred = best_model.predict(X_test)"
   ]
  },
  {
   "cell_type": "markdown",
   "id": "6627687b",
   "metadata": {},
   "source": [
    "## Zapis wyników do pliku"
   ]
  },
  {
   "cell_type": "code",
   "execution_count": null,
   "id": "eed1d93a",
   "metadata": {},
   "outputs": [],
   "source": [
    "output = pd.DataFrame({\n",
    "    'ID': test_df['ID'],\n",
    "    'Cena': y_pred\n",
    "})\n",
    "output['Cena'] = output['Cena'].round(2)\n",
    "output.to_csv('wyniki.csv', index=False)"
   ]
  },
  {
   "cell_type": "markdown",
   "id": "bda49ddf-80b7-4732-93fe-477784d1c82e",
   "metadata": {},
   "source": [
    "#### Wyświetlenie najważniejszych cech dla modelu Gradient Boosting"
   ]
  },
  {
   "cell_type": "code",
   "execution_count": null,
   "id": "35e7c3fb-a953-415e-8103-15a44b8638fb",
   "metadata": {},
   "outputs": [],
   "source": [
    "feature_importances = pd.DataFrame({\n",
    "    'Feature': X_train.columns,\n",
    "    'Importance': best_model.feature_importances_\n",
    "}).sort_values(by='Importance', ascending=False)\n",
    "\n",
    "plt.figure(figsize=(10, 6))\n",
    "sns.barplot(data=feature_importances, x='Importance', y='Feature')\n",
    "plt.title(\"Ważność cech dla najlepszego modelu\")\n",
    "plt.tight_layout()\n",
    "plt.show()\n"
   ]
  }
 ],
 "metadata": {
  "kernelspec": {
   "display_name": "Python 3",
   "language": "python",
   "name": "python3"
  },
  "language_info": {
   "codemirror_mode": {
    "name": "ipython",
    "version": 3
   },
   "file_extension": ".py",
   "mimetype": "text/x-python",
   "name": "python",
   "nbconvert_exporter": "python",
   "pygments_lexer": "ipython3",
   "version": "3.11.4"
  }
 },
 "nbformat": 4,
 "nbformat_minor": 5
}
